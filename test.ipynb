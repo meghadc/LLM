{
 "cells": [
  {
   "cell_type": "code",
   "execution_count": 1,
   "metadata": {},
   "outputs": [
    {
     "name": "stdout",
     "output_type": "stream",
     "text": [
      "Requirement already satisfied: streamlit==1.22.0 in /Users/meghadharwadchandrashekar/Library/Python/3.10/lib/python/site-packages (1.22.0)\n",
      "Requirement already satisfied: altair<5,>=3.2.0 in /Users/meghadharwadchandrashekar/Library/Python/3.10/lib/python/site-packages (from streamlit==1.22.0) (4.2.2)\n",
      "Requirement already satisfied: gitpython!=3.1.19 in /Users/meghadharwadchandrashekar/Library/Python/3.10/lib/python/site-packages (from streamlit==1.22.0) (3.1.43)\n",
      "Requirement already satisfied: tornado>=6.0.3 in /Users/meghadharwadchandrashekar/Library/Python/3.10/lib/python/site-packages (from streamlit==1.22.0) (6.4.1)\n",
      "Requirement already satisfied: validators>=0.2 in /Users/meghadharwadchandrashekar/Library/Python/3.10/lib/python/site-packages (from streamlit==1.22.0) (0.33.0)\n",
      "Requirement already satisfied: blinker>=1.0.0 in /Users/meghadharwadchandrashekar/Library/Python/3.10/lib/python/site-packages (from streamlit==1.22.0) (1.8.2)\n",
      "Requirement already satisfied: pillow>=6.2.0 in /Users/meghadharwadchandrashekar/Library/Python/3.10/lib/python/site-packages (from streamlit==1.22.0) (10.4.0)\n",
      "Requirement already satisfied: numpy in /Users/meghadharwadchandrashekar/Library/Python/3.10/lib/python/site-packages (from streamlit==1.22.0) (1.26.4)\n",
      "Requirement already satisfied: protobuf<4,>=3.12 in /Users/meghadharwadchandrashekar/Library/Python/3.10/lib/python/site-packages (from streamlit==1.22.0) (3.20.3)\n",
      "Requirement already satisfied: pandas<3,>=0.25 in /Users/meghadharwadchandrashekar/Library/Python/3.10/lib/python/site-packages (from streamlit==1.22.0) (2.2.2)\n",
      "Requirement already satisfied: tenacity<9,>=8.0.0 in /Users/meghadharwadchandrashekar/Library/Python/3.10/lib/python/site-packages (from streamlit==1.22.0) (8.5.0)\n",
      "Requirement already satisfied: pydeck>=0.1.dev5 in /Users/meghadharwadchandrashekar/Library/Python/3.10/lib/python/site-packages (from streamlit==1.22.0) (0.9.1)\n",
      "Requirement already satisfied: rich>=10.11.0 in /Users/meghadharwadchandrashekar/Library/Python/3.10/lib/python/site-packages (from streamlit==1.22.0) (13.7.1)\n",
      "Requirement already satisfied: cachetools>=4.0 in /Users/meghadharwadchandrashekar/Library/Python/3.10/lib/python/site-packages (from streamlit==1.22.0) (5.5.0)\n",
      "Requirement already satisfied: click>=7.0 in /Users/meghadharwadchandrashekar/Library/Python/3.10/lib/python/site-packages (from streamlit==1.22.0) (8.1.7)\n",
      "Requirement already satisfied: toml in /Users/meghadharwadchandrashekar/Library/Python/3.10/lib/python/site-packages (from streamlit==1.22.0) (0.10.2)\n",
      "Requirement already satisfied: python-dateutil in /Users/meghadharwadchandrashekar/Library/Python/3.10/lib/python/site-packages (from streamlit==1.22.0) (2.9.0.post0)\n",
      "Requirement already satisfied: pyarrow>=4.0 in /Users/meghadharwadchandrashekar/Library/Python/3.10/lib/python/site-packages (from streamlit==1.22.0) (17.0.0)\n",
      "Requirement already satisfied: importlib-metadata>=1.4 in /Users/meghadharwadchandrashekar/Library/Python/3.10/lib/python/site-packages (from streamlit==1.22.0) (8.4.0)\n",
      "Requirement already satisfied: typing-extensions>=3.10.0.0 in /Users/meghadharwadchandrashekar/Library/Python/3.10/lib/python/site-packages (from streamlit==1.22.0) (4.12.2)\n",
      "Requirement already satisfied: tzlocal>=1.1 in /Users/meghadharwadchandrashekar/Library/Python/3.10/lib/python/site-packages (from streamlit==1.22.0) (5.2)\n",
      "Requirement already satisfied: pympler>=0.9 in /Users/meghadharwadchandrashekar/Library/Python/3.10/lib/python/site-packages (from streamlit==1.22.0) (1.1)\n",
      "Requirement already satisfied: packaging>=14.1 in /Users/meghadharwadchandrashekar/Library/Python/3.10/lib/python/site-packages (from streamlit==1.22.0) (24.1)\n",
      "Requirement already satisfied: requests>=2.4 in /Users/meghadharwadchandrashekar/Library/Python/3.10/lib/python/site-packages (from streamlit==1.22.0) (2.32.3)\n",
      "Requirement already satisfied: entrypoints in /Users/meghadharwadchandrashekar/Library/Python/3.10/lib/python/site-packages (from altair<5,>=3.2.0->streamlit==1.22.0) (0.4)\n",
      "Requirement already satisfied: toolz in /Users/meghadharwadchandrashekar/Library/Python/3.10/lib/python/site-packages (from altair<5,>=3.2.0->streamlit==1.22.0) (0.12.1)\n",
      "Requirement already satisfied: jinja2 in /Users/meghadharwadchandrashekar/Library/Python/3.10/lib/python/site-packages (from altair<5,>=3.2.0->streamlit==1.22.0) (3.1.4)\n",
      "Requirement already satisfied: jsonschema>=3.0 in /Users/meghadharwadchandrashekar/Library/Python/3.10/lib/python/site-packages (from altair<5,>=3.2.0->streamlit==1.22.0) (4.23.0)\n",
      "Requirement already satisfied: gitdb<5,>=4.0.1 in /Users/meghadharwadchandrashekar/Library/Python/3.10/lib/python/site-packages (from gitpython!=3.1.19->streamlit==1.22.0) (4.0.11)\n",
      "Requirement already satisfied: smmap<6,>=3.0.1 in /Users/meghadharwadchandrashekar/Library/Python/3.10/lib/python/site-packages (from gitdb<5,>=4.0.1->gitpython!=3.1.19->streamlit==1.22.0) (5.0.1)\n",
      "Requirement already satisfied: zipp>=0.5 in /Users/meghadharwadchandrashekar/Library/Python/3.10/lib/python/site-packages (from importlib-metadata>=1.4->streamlit==1.22.0) (3.20.0)\n",
      "Requirement already satisfied: referencing>=0.28.4 in /Users/meghadharwadchandrashekar/Library/Python/3.10/lib/python/site-packages (from jsonschema>=3.0->altair<5,>=3.2.0->streamlit==1.22.0) (0.35.1)\n",
      "Requirement already satisfied: attrs>=22.2.0 in /Users/meghadharwadchandrashekar/Library/Python/3.10/lib/python/site-packages (from jsonschema>=3.0->altair<5,>=3.2.0->streamlit==1.22.0) (24.2.0)\n",
      "Requirement already satisfied: jsonschema-specifications>=2023.03.6 in /Users/meghadharwadchandrashekar/Library/Python/3.10/lib/python/site-packages (from jsonschema>=3.0->altair<5,>=3.2.0->streamlit==1.22.0) (2023.12.1)\n",
      "Requirement already satisfied: rpds-py>=0.7.1 in /Users/meghadharwadchandrashekar/Library/Python/3.10/lib/python/site-packages (from jsonschema>=3.0->altair<5,>=3.2.0->streamlit==1.22.0) (0.20.0)\n",
      "Requirement already satisfied: pytz>=2020.1 in /Users/meghadharwadchandrashekar/Library/Python/3.10/lib/python/site-packages (from pandas<3,>=0.25->streamlit==1.22.0) (2024.1)\n",
      "Requirement already satisfied: tzdata>=2022.7 in /Users/meghadharwadchandrashekar/Library/Python/3.10/lib/python/site-packages (from pandas<3,>=0.25->streamlit==1.22.0) (2024.1)\n",
      "Requirement already satisfied: MarkupSafe>=2.0 in /Users/meghadharwadchandrashekar/Library/Python/3.10/lib/python/site-packages (from jinja2->altair<5,>=3.2.0->streamlit==1.22.0) (2.1.5)\n",
      "Requirement already satisfied: six>=1.5 in /Users/meghadharwadchandrashekar/Library/Python/3.10/lib/python/site-packages (from python-dateutil->streamlit==1.22.0) (1.16.0)\n",
      "Requirement already satisfied: idna<4,>=2.5 in /Users/meghadharwadchandrashekar/Library/Python/3.10/lib/python/site-packages (from requests>=2.4->streamlit==1.22.0) (3.8)\n",
      "Requirement already satisfied: charset-normalizer<4,>=2 in /Users/meghadharwadchandrashekar/Library/Python/3.10/lib/python/site-packages (from requests>=2.4->streamlit==1.22.0) (3.3.2)\n",
      "Requirement already satisfied: certifi>=2017.4.17 in /Users/meghadharwadchandrashekar/Library/Python/3.10/lib/python/site-packages (from requests>=2.4->streamlit==1.22.0) (2024.7.4)\n",
      "Requirement already satisfied: urllib3<3,>=1.21.1 in /Users/meghadharwadchandrashekar/Library/Python/3.10/lib/python/site-packages (from requests>=2.4->streamlit==1.22.0) (2.2.2)\n",
      "Requirement already satisfied: markdown-it-py>=2.2.0 in /Users/meghadharwadchandrashekar/Library/Python/3.10/lib/python/site-packages (from rich>=10.11.0->streamlit==1.22.0) (3.0.0)\n",
      "Requirement already satisfied: pygments<3.0.0,>=2.13.0 in /Users/meghadharwadchandrashekar/Library/Python/3.10/lib/python/site-packages (from rich>=10.11.0->streamlit==1.22.0) (2.18.0)\n",
      "Requirement already satisfied: mdurl~=0.1 in /Users/meghadharwadchandrashekar/Library/Python/3.10/lib/python/site-packages (from markdown-it-py>=2.2.0->rich>=10.11.0->streamlit==1.22.0) (0.1.2)\n",
      "\u001b[33mWARNING: You are using pip version 21.2.3; however, version 24.2 is available.\n",
      "You should consider upgrading via the '/usr/local/bin/python3 -m pip install --upgrade pip' command.\u001b[0m\n"
     ]
    }
   ],
   "source": [
    "import sys\n",
    "\n",
    "!{sys.executable} -m pip install streamlit==1.22.0 --user\n"
   ]
  }
 ],
 "metadata": {
  "kernelspec": {
   "display_name": "Python 3",
   "language": "python",
   "name": "python3"
  },
  "language_info": {
   "codemirror_mode": {
    "name": "ipython",
    "version": 3
   },
   "file_extension": ".py",
   "mimetype": "text/x-python",
   "name": "python",
   "nbconvert_exporter": "python",
   "pygments_lexer": "ipython3",
   "version": "3.10.0"
  }
 },
 "nbformat": 4,
 "nbformat_minor": 2
}
